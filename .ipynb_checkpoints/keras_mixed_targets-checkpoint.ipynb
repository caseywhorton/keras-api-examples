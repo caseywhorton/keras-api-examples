{
 "cells": [
  {
   "cell_type": "markdown",
   "metadata": {},
   "source": [
    "# Mixed Targets"
   ]
  },
  {
   "cell_type": "code",
   "execution_count": 1,
   "metadata": {},
   "outputs": [],
   "source": [
    "import pandas as pd\n",
    "import numpy as np\n",
    "\n",
    "from sklearn.model_selection import train_test_split\n",
    "import tensorflow as tf\n",
    "import keras.layers\n",
    "\n",
    "from sklearn.preprocessing import StandardScaler \n",
    "from sklearn.metrics import r2_score, precision_score, recall_score, classification_report\n",
    "\n",
    "from sklearn.datasets import make_regression, make_classification\n",
    "\n",
    "import matplotlib.pyplot as plt"
   ]
  },
  {
   "cell_type": "code",
   "execution_count": 2,
   "metadata": {},
   "outputs": [],
   "source": [
    "def get_model(input_dim):\n",
    "\n",
    "    input_layer = keras.Input(shape=(input_dim,), name=\"input_layer\")\n",
    "\n",
    "    dense_1 = keras.layers.Dense(input_dim, name = 'dense_1')(input_layer)\n",
    "    dense_2 = keras.layers.Dense(input_dim, name = 'dense_2')(dense_1)\n",
    "\n",
    "    regression_output = keras.layers.Dense(1, activation = 'linear', name = 'regression_output')(dense_2)\n",
    "    classification_output = keras.layers.Dense(1, activation = 'sigmoid', name = 'classification_output')(dense_2)\n",
    "\n",
    "    model = keras.Model(inputs=input_layer,outputs=[regression_output, classification_output])\n",
    "    \n",
    "    return(model)\n",
    "\n",
    "def get_predictions(model, df):\n",
    "    \n",
    "    predictions = model.predict(df)\n",
    "\n",
    "    pdf = pd.DataFrame(predictions[1], columns = ['predicted_proba'])\n",
    "\n",
    "    pdf['predicted_class'] = pdf.predicted_proba >= 0.5\n",
    "\n",
    "    pdf['actual_class'] = y_test.class_target.reset_index(drop=True)\n",
    "\n",
    "    pdf['predicted_quality'] = predictions[0]\n",
    "\n",
    "    pdf['actual_quality'] = y_test.reg_target.reset_index(drop=True)\n",
    "    \n",
    "    return(pdf)\n",
    "\n",
    "def evaluate_model(df):\n",
    "    \n",
    "    precision = precision_score(df.actual_class, df.predicted_class)\n",
    "    recall = recall_score(df.actual_class, df.predicted_class)\n",
    "    r2 = r2_score(df.actual_quality, df.predicted_quality)\n",
    "    \n",
    "    return(r2, precision, recall)"
   ]
  },
  {
   "cell_type": "code",
   "execution_count": 3,
   "metadata": {},
   "outputs": [],
   "source": [
    "X_reg, y_cont = make_regression(n_samples = 1000, n_features = 10, n_informative = 5, noise = 25)\n",
    "\n",
    "X_class, y_class = make_classification(n_samples = 1000, n_features = 10, n_informative = 2)\n",
    "\n",
    "df = pd.concat([pd.DataFrame(X_reg), pd.DataFrame(X_class)], axis=1)\n",
    "\n",
    "y = pd.concat([pd.DataFrame(y_cont), pd.DataFrame(y_class)], axis=1)\n",
    "\n",
    "y.columns = ['reg_target','class_target']\n",
    "\n",
    "X_train, X_test, y_train, y_test = train_test_split(df, y, stratify = y.class_target)"
   ]
  },
  {
   "cell_type": "code",
   "execution_count": 4,
   "metadata": {},
   "outputs": [],
   "source": [
    "result_dict = {}\n",
    "\n",
    "for loss_weight_param in ([1,100],[1,50],[1,10],[1,1],[10,1],[50,1],[100,1]):\n",
    "    \n",
    "    model = get_model(20)\n",
    "    \n",
    "    model.compile(\n",
    "    optimizer=\"adam\",\n",
    "    loss=[\n",
    "        keras.losses.MeanSquaredError(),\n",
    "        keras.losses.BinaryCrossentropy(),\n",
    "    ],loss_weights = loss_weight_param)\n",
    "    \n",
    "    model.fit(X_train,\n",
    "    {\"regression_output\": y_train.reg_target, \"classification_output\": y_train.class_target},\n",
    "    epochs=30,\n",
    "    batch_size=50,\n",
    "          verbose=0)\n",
    "    \n",
    "    predictions = get_predictions(model, X_test)\n",
    "    \n",
    "    result_dict.update({str(loss_weight_param):evaluate_model(predictions)})"
   ]
  },
  {
   "cell_type": "code",
   "execution_count": 5,
   "metadata": {},
   "outputs": [
    {
     "name": "stdout",
     "output_type": "stream",
     "text": [
      "Model: \"functional_13\"\n",
      "__________________________________________________________________________________________________\n",
      "Layer (type)                    Output Shape         Param #     Connected to                     \n",
      "==================================================================================================\n",
      "input_layer (InputLayer)        [(None, 20)]         0                                            \n",
      "__________________________________________________________________________________________________\n",
      "dense_1 (Dense)                 (None, 20)           420         input_layer[0][0]                \n",
      "__________________________________________________________________________________________________\n",
      "dense_2 (Dense)                 (None, 20)           420         dense_1[0][0]                    \n",
      "__________________________________________________________________________________________________\n",
      "regression_output (Dense)       (None, 1)            21          dense_2[0][0]                    \n",
      "__________________________________________________________________________________________________\n",
      "classification_output (Dense)   (None, 1)            21          dense_2[0][0]                    \n",
      "==================================================================================================\n",
      "Total params: 882\n",
      "Trainable params: 882\n",
      "Non-trainable params: 0\n",
      "__________________________________________________________________________________________________\n"
     ]
    }
   ],
   "source": [
    "model.summary()"
   ]
  },
  {
   "cell_type": "code",
   "execution_count": null,
   "metadata": {},
   "outputs": [],
   "source": []
  },
  {
   "cell_type": "code",
   "execution_count": 1485,
   "metadata": {},
   "outputs": [],
   "source": [
    "r2_list = list()\n",
    "prec_list = list()\n",
    "rec_list = list()\n",
    "\n",
    "for i in result_dict.values():\n",
    "    r2_list.append(i[0])\n",
    "    prec_list.append(i[1])\n",
    "    rec_list.append(i[2])"
   ]
  },
  {
   "cell_type": "code",
   "execution_count": 1487,
   "metadata": {},
   "outputs": [
    {
     "data": {
      "text/plain": [
       "<matplotlib.legend.Legend at 0x2602d67aaf0>"
      ]
     },
     "execution_count": 1487,
     "metadata": {},
     "output_type": "execute_result"
    },
    {
     "data": {
      "image/png": "[encoded data removed]",
      "text/plain": [
       "<Figure size 432x288 with 1 Axes>"
      ]
     },
     "metadata": {
      "needs_background": "light"
     },
     "output_type": "display_data"
    }
   ],
   "source": [
    "plt.plot(result_dict.keys(),r2_list, marker = 'o', label = 'r2', color ='grey')\n",
    "plt.title('r2 scores versus loss_weights')\n",
    "plt.legend()"
   ]
  },
  {
   "cell_type": "code",
   "execution_count": 1488,
   "metadata": {},
   "outputs": [
    {
     "data": {
      "image/png": "[encoded data removed]",
      "text/plain": [
       "<Figure size 432x288 with 1 Axes>"
      ]
     },
     "metadata": {
      "needs_background": "light"
     },
     "output_type": "display_data"
    }
   ],
   "source": [
    "fig, ax = plt.subplots()\n",
    "\n",
    "ax.plot(result_dict.keys(), prec_list, marker = '*', markersize = 10, linestyle = '', label = 'Precision')\n",
    "ax.plot(rec_list, marker ='*', markersize = 10, linestyle = '', label = 'Recall')\n",
    "plt.title('Precision & Recall versus loss_weights')\n",
    "plt.legend()\n",
    "plt.show()"
   ]
  },
  {
   "cell_type": "code",
   "execution_count": 1489,
   "metadata": {},
   "outputs": [
    {
     "data": {
      "text/plain": [
       "{'[1, 100]': (0.9669623175831203, 0.875, 0.952),\n",
       " '[1, 50]': (0.9663894166744459, 0.8211382113821138, 0.808),\n",
       " '[1, 10]': (0.9656396957653813, 0.6528925619834711, 0.632),\n",
       " '[1, 1]': (0.9672275110539601, 0.712, 0.712),\n",
       " '[10, 1]': (0.966918385733183, 0.7481481481481481, 0.808),\n",
       " '[50, 1]': (0.9676479568280973, 0.8062015503875969, 0.832),\n",
       " '[100, 1]': (0.9674468549971792, 0.5739130434782609, 0.528)}"
      ]
     },
     "execution_count": 1489,
     "metadata": {},
     "output_type": "execute_result"
    }
   ],
   "source": [
    "result_dict"
   ]
  },
  {
   "cell_type": "markdown",
   "metadata": {},
   "source": [
    "# End"
   ]
  }
 ],
 "metadata": {
  "kernelspec": {
   "display_name": "Python 3",
   "language": "python",
   "name": "python3"
  },
  "language_info": {
   "codemirror_mode": {
    "name": "ipython",
    "version": 3
   },
   "file_extension": ".py",
   "mimetype": "text/x-python",
   "name": "python",
   "nbconvert_exporter": "python",
   "pygments_lexer": "ipython3",
   "version": "3.8.5"
  }
 },
 "nbformat": 4,
 "nbformat_minor": 4
}
